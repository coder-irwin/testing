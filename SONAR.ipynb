{
  "nbformat": 4,
  "nbformat_minor": 0,
  "metadata": {
    "colab": {
      "provenance": [],
      "authorship_tag": "ABX9TyP7YT+4pEqXHLbf2zeDQboV",
      "include_colab_link": true
    },
    "kernelspec": {
      "name": "python3",
      "display_name": "Python 3"
    },
    "language_info": {
      "name": "python"
    }
  },
  "cells": [
    {
      "cell_type": "markdown",
      "metadata": {
        "id": "view-in-github",
        "colab_type": "text"
      },
      "source": [
        "<a href=\"https://colab.research.google.com/github/coder-irwin/testing/blob/master/SONAR.ipynb\" target=\"_parent\"><img src=\"https://colab.research.google.com/assets/colab-badge.svg\" alt=\"Open In Colab\"/></a>"
      ]
    },
    {
      "cell_type": "markdown",
      "source": [
        "Importing the dependecies"
      ],
      "metadata": {
        "id": "9cSu2ysCxgdz"
      }
    },
    {
      "cell_type": "code",
      "source": [
        "import numpy as np # for arrays\n",
        "import pandas as pd # for conv\n",
        "from sklearn.model_selection import train_test_split\n",
        "from sklearn.linear_model import LogisticRegression\n",
        "from sklearn.metrics import accuracy_score\n"
      ],
      "metadata": {
        "id": "FXp3QcT2xGtY"
      },
      "execution_count": 1,
      "outputs": []
    },
    {
      "cell_type": "markdown",
      "source": [
        "Data Collection and Data Processing"
      ],
      "metadata": {
        "id": "btdIerHnDZCY"
      }
    },
    {
      "cell_type": "code",
      "source": [
        "#loading the data to the pandas dataset\n",
        "sonar_data = pd.read_csv(\"/sonar.csv\", header = None)"
      ],
      "metadata": {
        "id": "KMjcsOX4DXdj"
      },
      "execution_count": 2,
      "outputs": []
    },
    {
      "cell_type": "code",
      "source": [
        "sonar_data.head() # head is a function which brings first 5 row of the data set"
      ],
      "metadata": {
        "id": "JMm2dThwEWAU"
      },
      "execution_count": null,
      "outputs": []
    },
    {
      "cell_type": "code",
      "source": [
        "#number of rows and columns\n",
        "sonar_data.shape"
      ],
      "metadata": {
        "id": "T9ykJdYpEwtW"
      },
      "execution_count": null,
      "outputs": []
    },
    {
      "cell_type": "code",
      "source": [
        "sonar_data.describe() # describe statistical measures of data\n",
        "# count - The number of not-empty values.\n",
        "# mean - The average (mean) value.\n",
        "# std - The standard deviation.\n",
        "# min - the minimum value.\n",
        "# 25% - The 25% percentile*.\n",
        "# 50% - The 50% percentile*.\n",
        "# 75% - The 75% percentile*.\n",
        "# max - the maximum value."
      ],
      "metadata": {
        "id": "TdoHyHvsE2hQ"
      },
      "execution_count": null,
      "outputs": []
    },
    {
      "cell_type": "code",
      "source": [
        "sonar_data[60].value_counts() #"
      ],
      "metadata": {
        "id": "k8V-4UTUFo0C"
      },
      "execution_count": null,
      "outputs": []
    },
    {
      "cell_type": "markdown",
      "source": [
        "M -> Mines\n",
        "R -> Rock"
      ],
      "metadata": {
        "id": "ppYCgY2SG92S"
      }
    },
    {
      "cell_type": "code",
      "source": [
        "sonar_data.groupby(60).mean()"
      ],
      "metadata": {
        "id": "fupAD63bG_g3"
      },
      "execution_count": null,
      "outputs": []
    },
    {
      "cell_type": "code",
      "source": [
        "#seprating data and labels\n",
        "X = sonar_data.drop(columns = 60, axis = 1)\n",
        "\n",
        "Y = sonar_data[60]\n"
      ],
      "metadata": {
        "id": "dm-A9ljKRHV6"
      },
      "execution_count": 19,
      "outputs": []
    },
    {
      "cell_type": "code",
      "source": [
        "\n",
        "print(X)\n",
        "print(Y)\n"
      ],
      "metadata": {
        "id": "CEVllRJeRfHp"
      },
      "execution_count": null,
      "outputs": []
    },
    {
      "cell_type": "markdown",
      "source": [
        "Training and test data\n"
      ],
      "metadata": {
        "id": "uq_6jOPpVVjj"
      }
    },
    {
      "cell_type": "code",
      "source": [
        "X_train , X_test, Y_train, Y_test = train_test_split(X,Y, test_size = 0.1, stratify = Y, random_state = 2)\n",
        "# test size -> percent of data is considered to be test data\n",
        "# stratify -> splits data into stratify manner\n",
        "# random state ->"
      ],
      "metadata": {
        "id": "vKCrdEaRVZE0"
      },
      "execution_count": 24,
      "outputs": []
    },
    {
      "cell_type": "code",
      "source": [
        "print(X.shape, X_train.shape, X_test.shape)"
      ],
      "metadata": {
        "id": "7wg5QwHDYJZA"
      },
      "execution_count": null,
      "outputs": []
    },
    {
      "cell_type": "markdown",
      "source": [
        "Model Training -> Logistic Regression\n"
      ],
      "metadata": {
        "id": "R3XZLSoAYpPs"
      }
    },
    {
      "cell_type": "code",
      "source": [
        "model = LogisticRegression()"
      ],
      "metadata": {
        "id": "hth6A0O3Yxzw"
      },
      "execution_count": 26,
      "outputs": []
    },
    {
      "cell_type": "code",
      "source": [
        "#traing the logistic regression model with training data\n",
        "model.fit(X_train, Y_train)"
      ],
      "metadata": {
        "id": "S6cyZkm3Y3ix"
      },
      "execution_count": null,
      "outputs": []
    },
    {
      "cell_type": "markdown",
      "source": [
        "Model Evaluation"
      ],
      "metadata": {
        "id": "BWruoGB4Z3q4"
      }
    },
    {
      "cell_type": "code",
      "source": [
        "#accuracy of training data\n",
        "X_train_prediction = model.predict(X_train)\n",
        "training_data_accuracy = accuracy_score(X_train_prediction, Y_train)"
      ],
      "metadata": {
        "id": "o9E4md-8Z1Ip"
      },
      "execution_count": 29,
      "outputs": []
    },
    {
      "cell_type": "code",
      "source": [
        "print(\"Accuracy on training data\", training_data_accuracy)"
      ],
      "metadata": {
        "colab": {
          "base_uri": "https://localhost:8080/"
        },
        "id": "UjcRv7QlavT8",
        "outputId": "4c5a315e-7eee-4295-c4d9-5ec58b6b5ccc"
      },
      "execution_count": 31,
      "outputs": [
        {
          "output_type": "stream",
          "name": "stdout",
          "text": [
            "Accuracy on training data 0.8128342245989305\n"
          ]
        }
      ]
    },
    {
      "cell_type": "code",
      "source": [
        "#accuracy of test data\n",
        "X_test_prediction = model.predict(X_test)\n",
        "test_data_accuracy = accuracy_score(X_test_prediction, Y_test)"
      ],
      "metadata": {
        "id": "ckUvB8Nrbftu"
      },
      "execution_count": 32,
      "outputs": []
    },
    {
      "cell_type": "code",
      "source": [
        "print(\"Accuracy on test data\", test_data_accuracy)"
      ],
      "metadata": {
        "id": "WbgV5e_HbuG0"
      },
      "execution_count": null,
      "outputs": []
    },
    {
      "cell_type": "markdown",
      "source": [
        "Making a predictive system"
      ],
      "metadata": {
        "id": "xg-edTuRb_BY"
      }
    },
    {
      "cell_type": "code",
      "source": [
        "input_data = (0.0519,0.0548,0.0842,0.0319,0.1158,0.0922,0.1027,0.0613,0.1465,0.2838,0.2802,0.3086,0.2657,0.3801,0.5626,0.4376,0.2617,0.1199,0.6676,0.9402,0.7832,0.5352,0.6809,0.9174,0.7613,0.822,0.8872,0.6091,0.2967,0.1103,0.1318,0.0624,0.099,0.4006,0.3666,0.105,0.1915,0.393,0.4288,0.2546,0.1151,0.2196,0.1879,0.1437,0.2146,0.236,0.1125,0.0254,0.0285,0.0178,0.0052,0.0081,0.012,0.0045,0.0121,0.0097,0.0085,0.0047,0.0048,0.0053\n",
        ")\n",
        "#changing data type to a numpy array\n",
        "input_data_as_np  = np.array(input_data)\n",
        "'''\n",
        "0.0519,0.0548,0.0842,0.0319,0.1158,0.0922,0.1027,0.0613,0.1465,0.2838,0.2802,0.3086,0.2657,0.3801,0.5626,0.4376,0.2617,0.1199,0.6676,0.9402,0.7832,0.5352,0.6809,0.9174,0.7613,0.822,0.8872,0.6091,0.2967,0.1103,0.1318,0.0624,0.099,0.4006,0.3666,0.105,0.1915,0.393,0.4288,0.2546,0.1151,0.2196,0.1879,0.1437,0.2146,0.236,0.1125,0.0254,0.0285,0.0178,0.0052,0.0081,0.012,0.0045,0.0121,0.0097,0.0085,0.0047,0.0048,0.0053\n",
        "'''\n",
        "#reshape the np arrayas we are predicting for one instance\n",
        "input_data_reshaped  = input_data_as_np.reshape(1,-1)\n",
        "\n",
        "prediction  = model.predict(input_data_reshaped)\n",
        "print(prediction)\n"
      ],
      "metadata": {
        "colab": {
          "base_uri": "https://localhost:8080/"
        },
        "id": "gGAo0k1kb-n0",
        "outputId": "d3bc4c8e-acba-4f94-f5ff-7fc6a55efdee"
      },
      "execution_count": 34,
      "outputs": [
        {
          "output_type": "stream",
          "name": "stdout",
          "text": [
            "['M']\n"
          ]
        }
      ]
    },
    {
      "cell_type": "code",
      "source": [
        "if(prediction[0] == 'R'):\n",
        "  print(\"The object is ROCK\")\n",
        "if(prediction[0] == 'M'):\n",
        "  print(\"The object is MINE\")"
      ],
      "metadata": {
        "colab": {
          "base_uri": "https://localhost:8080/"
        },
        "id": "VuTXVMc2by9S",
        "outputId": "29cc973a-cee3-4399-db21-72bc26f43576"
      },
      "execution_count": 35,
      "outputs": [
        {
          "output_type": "stream",
          "name": "stdout",
          "text": [
            "The object is MINE\n"
          ]
        }
      ]
    },
    {
      "cell_type": "code",
      "source": [],
      "metadata": {
        "id": "WERNGohReeCF"
      },
      "execution_count": null,
      "outputs": []
    }
  ]
}